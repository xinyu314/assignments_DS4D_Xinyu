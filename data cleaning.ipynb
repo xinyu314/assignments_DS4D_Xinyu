{
 "cells": [
  {
   "cell_type": "code",
   "execution_count": 10,
   "metadata": {},
   "outputs": [],
   "source": [
    "import xml.etree.ElementTree as ET\n",
    "from pandas import DataFrame\n",
    "import pandas as pd\n",
    "import os\n",
    "import numpy"
   ]
  },
  {
   "cell_type": "code",
   "execution_count": 11,
   "metadata": {},
   "outputs": [],
   "source": [
    "def namedic(file):\n",
    "    tree = ET.parse(file)\n",
    "    root = tree.getroot()\n",
    "    \n",
    "    list = []\n",
    "    for meta in root.findall('meta'):\n",
    "        name = meta.find('name').text\n",
    "    list = [name]\n",
    "    \n",
    "    return(list)\n",
    "    \n",
    "#namedic('pta_10.xml')\n",
    "\n",
    "rootdir = 'xml'\n",
    "list = os.listdir(rootdir)\n",
    "\n",
    "colum_1 = []  #source colum\n",
    "colum_2 = []  #target colum\n",
    "for i in range(0,len(list)):                # reading path of each agreement one by one \n",
    "    path = os.path.join(rootdir,list[i])\n",
    "    name = namedic(path)[0]\n",
    "    #print(name)\n",
    "    colum = name.split('-')\n",
    "    #print(colum)\n",
    "    colum_1.append(colum[0])\n",
    "    if len(colum) == 1:\n",
    "        colum_2.append(' ')\n",
    "    else:\n",
    "        colum_2.append(colum[1])\n",
    "    \n",
    "#colum_2"
   ]
  },
  {
   "cell_type": "code",
   "execution_count": 12,
   "metadata": {},
   "outputs": [],
   "source": [
    "edge1 = pd.DataFrame(colum_1,columns = ['Source'])\n",
    "#node\n",
    "edge2 = pd.DataFrame(colum_2,columns = ['Target'])\n",
    "#edge\n",
    "\n",
    "\n",
    "df_edges = pd.concat([edge1,edge2],axis=1)\n",
    "#df_edges\n",
    "\n",
    "os.getcwd()\n",
    "df_edges.to_csv('edges.csv')"
   ]
  },
  {
   "cell_type": "code",
   "execution_count": 13,
   "metadata": {},
   "outputs": [],
   "source": [
    "names = colum_1 + colum_2\n",
    "#names\n",
    "names = set(names)\n",
    "name=[]\n",
    "for i in names:\n",
    "    if i not in name:\n",
    "        name.append(i)\n",
    "    else:\n",
    "        pass\n",
    "#name\n",
    "\n",
    "df_nodes = pd.DataFrame(name,columns = ['lable'])\n",
    "#df_name\n",
    "\n",
    "os.getcwd()\n",
    "df_nodes.to_csv('nodes.csv')"
   ]
  },
  {
   "cell_type": "code",
   "execution_count": 25,
   "metadata": {},
   "outputs": [],
   "source": [
    "def regiondic(file):\n",
    "    tree = ET.parse(file)\n",
    "    root = tree.getroot()\n",
    "    \n",
    "    list = []\n",
    "    for meta in root.findall('meta'):\n",
    "        region = meta.find('region').text\n",
    "    list = [region]\n",
    "    \n",
    "    return(list)\n",
    "    \n",
    "#regiondic('pta_1.xml')\n",
    "\n",
    "rootdir = 'xml'\n",
    "list = os.listdir(rootdir)\n",
    "\n",
    "colum_3 = []\n",
    "for i in range(0,len(list)):                # reading path of each agreement one by one \n",
    "    path = os.path.join(rootdir,list[i])\n",
    "    regions = regiondic(path)[0]\n",
    "    #print(region)\n",
    "    colum_3.append(regions)\n",
    "    \n",
    "#colum_3\n",
    "\n",
    "df_region = pd.DataFrame(colum_3,columns = ['Region Category'])\n",
    "#df_region\n",
    "\n",
    "df_attribute1 = pd.concat([df_edges,df_region],axis=1)\n",
    "df_attribute1\n",
    "\n",
    "df_attribute1.set_index('Source',inplace = True)\n",
    "#df_attribute1\n",
    "os.getcwd()\n",
    "df_attribute1.to_csv('attribute1.csv')"
   ]
  },
  {
   "cell_type": "code",
   "execution_count": null,
   "metadata": {},
   "outputs": [],
   "source": []
  },
  {
   "cell_type": "code",
   "execution_count": null,
   "metadata": {},
   "outputs": [],
   "source": []
  },
  {
   "cell_type": "code",
   "execution_count": null,
   "metadata": {},
   "outputs": [],
   "source": []
  },
  {
   "cell_type": "code",
   "execution_count": null,
   "metadata": {},
   "outputs": [],
   "source": []
  },
  {
   "cell_type": "code",
   "execution_count": null,
   "metadata": {},
   "outputs": [],
   "source": []
  }
 ],
 "metadata": {
  "kernelspec": {
   "display_name": "Python 3",
   "language": "python",
   "name": "python3"
  },
  "language_info": {
   "codemirror_mode": {
    "name": "ipython",
    "version": 3
   },
   "file_extension": ".py",
   "mimetype": "text/x-python",
   "name": "python",
   "nbconvert_exporter": "python",
   "pygments_lexer": "ipython3",
   "version": "3.7.0"
  }
 },
 "nbformat": 4,
 "nbformat_minor": 2
}
